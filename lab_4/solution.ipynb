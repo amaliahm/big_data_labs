{
 "cells": [
  {
   "cell_type": "markdown",
   "metadata": {},
   "source": [
    "## spark MLlib"
   ]
  },
  {
   "cell_type": "code",
   "execution_count": 33,
   "metadata": {},
   "outputs": [],
   "source": [
    "from pyspark.ml.feature import StringIndexer, OneHotEncoder, VectorAssembler\n",
    "from pyspark.sql.functions import col, sum, date_format\n",
    "from pyspark.ml.evaluation import ClusteringEvaluator\n",
    "from pyspark.ml.clustering import KMeans\n",
    "from pyspark.sql import SparkSession\n",
    "from pyspark.ml import Pipeline"
   ]
  },
  {
   "cell_type": "code",
   "execution_count": 2,
   "metadata": {},
   "outputs": [
    {
     "name": "stderr",
     "output_type": "stream",
     "text": [
      "Setting default log level to \"WARN\".\n",
      "To adjust logging level use sc.setLogLevel(newLevel). For SparkR, use setLogLevel(newLevel).\n",
      "25/02/19 01:44:44 WARN NativeCodeLoader: Unable to load native-hadoop library for your platform... using builtin-java classes where applicable\n"
     ]
    }
   ],
   "source": [
    "spark = SparkSession.builder.appName(\"lab4\").getOrCreate()"
   ]
  },
  {
   "cell_type": "markdown",
   "metadata": {},
   "source": [
    "1-get files contents"
   ]
  },
  {
   "cell_type": "code",
   "execution_count": 3,
   "metadata": {},
   "outputs": [
    {
     "name": "stderr",
     "output_type": "stream",
     "text": [
      "                                                                                \r"
     ]
    }
   ],
   "source": [
    "df = spark.read.csv('./tp4_data', header=True, inferSchema=True)"
   ]
  },
  {
   "cell_type": "code",
   "execution_count": 4,
   "metadata": {},
   "outputs": [
    {
     "name": "stdout",
     "output_type": "stream",
     "text": [
      "+---------+---------+--------------------+--------+-------------------+---------+----------+--------------+\n",
      "|InvoiceNo|StockCode|         Description|Quantity|        InvoiceDate|UnitPrice|CustomerID|       Country|\n",
      "+---------+---------+--------------------+--------+-------------------+---------+----------+--------------+\n",
      "|   537226|    22811|SET OF 6 T-LIGHTS...|       6|2010-12-06 08:34:00|     2.95|   15987.0|United Kingdom|\n",
      "|   537226|    21713|CITRONELLA CANDLE...|       8|2010-12-06 08:34:00|      2.1|   15987.0|United Kingdom|\n",
      "|   537226|    22927|GREEN GIANT GARDE...|       2|2010-12-06 08:34:00|     5.95|   15987.0|United Kingdom|\n",
      "|   537226|    20802|SMALL GLASS SUNDA...|       6|2010-12-06 08:34:00|     1.65|   15987.0|United Kingdom|\n",
      "|   537226|    22052|VINTAGE CARAVAN G...|      25|2010-12-06 08:34:00|     0.42|   15987.0|United Kingdom|\n",
      "|   537226|    22705|   WRAP GREEN PEARS |      25|2010-12-06 08:34:00|     0.42|   15987.0|United Kingdom|\n",
      "|   537226|    20781|GOLD EAR MUFF HEA...|       2|2010-12-06 08:34:00|     5.49|   15987.0|United Kingdom|\n",
      "|   537226|    22310|IVORY KNITTED MUG...|       6|2010-12-06 08:34:00|     1.65|   15987.0|United Kingdom|\n",
      "|   537226|    22389|PAPERWEIGHT SAVE ...|       6|2010-12-06 08:34:00|     2.55|   15987.0|United Kingdom|\n",
      "|   537227|    22941|CHRISTMAS LIGHTS ...|       2|2010-12-06 08:42:00|      8.5|   17677.0|United Kingdom|\n",
      "|   537227|    22696| WICKER WREATH LARGE|       6|2010-12-06 08:42:00|     1.95|   17677.0|United Kingdom|\n",
      "|   537227|    22193|RED DINER WALL CLOCK|       2|2010-12-06 08:42:00|      8.5|   17677.0|United Kingdom|\n",
      "|   537227|    21212|PACK OF 72 RETROS...|     120|2010-12-06 08:42:00|     0.42|   17677.0|United Kingdom|\n",
      "|   537227|    21977|PACK OF 60 PINK P...|      48|2010-12-06 08:42:00|     0.55|   17677.0|United Kingdom|\n",
      "|   537227|    84991|60 TEATIME FAIRY ...|      48|2010-12-06 08:42:00|     0.55|   17677.0|United Kingdom|\n",
      "|   537227|    21213|PACK OF 72 SKULL ...|      48|2010-12-06 08:42:00|     0.55|   17677.0|United Kingdom|\n",
      "|   537227|    21080|SET/20 RED RETROS...|      12|2010-12-06 08:42:00|     0.85|   17677.0|United Kingdom|\n",
      "|   537227|    22632|HAND WARMER RED R...|      48|2010-12-06 08:42:00|      2.1|   17677.0|United Kingdom|\n",
      "|   537227|    22315|200 RED + WHITE B...|      12|2010-12-06 08:42:00|     1.25|   17677.0|United Kingdom|\n",
      "|   537227|    21232|STRAWBERRY CERAMI...|      12|2010-12-06 08:42:00|     1.25|   17677.0|United Kingdom|\n",
      "+---------+---------+--------------------+--------+-------------------+---------+----------+--------------+\n",
      "only showing top 20 rows\n",
      "\n"
     ]
    }
   ],
   "source": [
    "df.show()"
   ]
  },
  {
   "cell_type": "markdown",
   "metadata": {},
   "source": [
    "2-display the schema"
   ]
  },
  {
   "cell_type": "code",
   "execution_count": 5,
   "metadata": {},
   "outputs": [
    {
     "name": "stdout",
     "output_type": "stream",
     "text": [
      "root\n",
      " |-- InvoiceNo: string (nullable = true)\n",
      " |-- StockCode: string (nullable = true)\n",
      " |-- Description: string (nullable = true)\n",
      " |-- Quantity: integer (nullable = true)\n",
      " |-- InvoiceDate: timestamp (nullable = true)\n",
      " |-- UnitPrice: double (nullable = true)\n",
      " |-- CustomerID: double (nullable = true)\n",
      " |-- Country: string (nullable = true)\n",
      "\n"
     ]
    }
   ],
   "source": [
    "df.printSchema()"
   ]
  },
  {
   "cell_type": "markdown",
   "metadata": {},
   "source": [
    "3-fill missing values with 0"
   ]
  },
  {
   "cell_type": "code",
   "execution_count": 6,
   "metadata": {},
   "outputs": [
    {
     "name": "stderr",
     "output_type": "stream",
     "text": [
      "[Stage 3:=============================>                             (2 + 2) / 4]\r"
     ]
    },
    {
     "name": "stdout",
     "output_type": "stream",
     "text": [
      "+---------+---------+-----------+--------+-----------+---------+----------+-------+\n",
      "|InvoiceNo|StockCode|Description|Quantity|InvoiceDate|UnitPrice|CustomerID|Country|\n",
      "+---------+---------+-----------+--------+-----------+---------+----------+-------+\n",
      "|        0|        0|        140|       0|          0|        0|     16681|      0|\n",
      "+---------+---------+-----------+--------+-----------+---------+----------+-------+\n",
      "\n"
     ]
    },
    {
     "name": "stderr",
     "output_type": "stream",
     "text": [
      "                                                                                \r"
     ]
    }
   ],
   "source": [
    "df.select([sum(col(column).isNull().cast('int')).alias(column) for column in df.columns]).show()"
   ]
  },
  {
   "cell_type": "code",
   "execution_count": 7,
   "metadata": {},
   "outputs": [],
   "source": [
    "df = df.fillna(0)"
   ]
  },
  {
   "cell_type": "code",
   "execution_count": 8,
   "metadata": {},
   "outputs": [
    {
     "name": "stderr",
     "output_type": "stream",
     "text": [
      "[Stage 6:============================================>              (3 + 1) / 4]\r"
     ]
    },
    {
     "name": "stdout",
     "output_type": "stream",
     "text": [
      "+---------+---------+-----------+--------+-----------+---------+----------+-------+\n",
      "|InvoiceNo|StockCode|Description|Quantity|InvoiceDate|UnitPrice|CustomerID|Country|\n",
      "+---------+---------+-----------+--------+-----------+---------+----------+-------+\n",
      "|        0|        0|        140|       0|          0|        0|         0|      0|\n",
      "+---------+---------+-----------+--------+-----------+---------+----------+-------+\n",
      "\n"
     ]
    },
    {
     "name": "stderr",
     "output_type": "stream",
     "text": [
      "                                                                                \r"
     ]
    }
   ],
   "source": [
    "df.select([sum(col(column).isNull().cast('int')).alias(column) for column in df.columns]).show()"
   ]
  },
  {
   "cell_type": "code",
   "execution_count": 9,
   "metadata": {},
   "outputs": [],
   "source": [
    "df = df.fillna({'description': 'unknown'})"
   ]
  },
  {
   "cell_type": "code",
   "execution_count": 10,
   "metadata": {},
   "outputs": [
    {
     "name": "stdout",
     "output_type": "stream",
     "text": [
      "+---------+---------+-----------+--------+-----------+---------+----------+-------+\n",
      "|InvoiceNo|StockCode|Description|Quantity|InvoiceDate|UnitPrice|CustomerID|Country|\n",
      "+---------+---------+-----------+--------+-----------+---------+----------+-------+\n",
      "|        0|        0|          0|       0|          0|        0|         0|      0|\n",
      "+---------+---------+-----------+--------+-----------+---------+----------+-------+\n",
      "\n"
     ]
    }
   ],
   "source": [
    "df.select([sum(col(column).isNull().cast('int')).alias(column) for column in df.columns]).show()"
   ]
  },
  {
   "cell_type": "markdown",
   "metadata": {},
   "source": [
    "4-add 'day_of_week' column"
   ]
  },
  {
   "cell_type": "code",
   "execution_count": 11,
   "metadata": {},
   "outputs": [],
   "source": [
    "df = df.withColumn('day_of_week', date_format(col('InvoiceDate'), 'EEEE'))"
   ]
  },
  {
   "cell_type": "code",
   "execution_count": 12,
   "metadata": {},
   "outputs": [
    {
     "name": "stdout",
     "output_type": "stream",
     "text": [
      "+---------+---------+--------------------+--------+-------------------+---------+----------+--------------+-----------+\n",
      "|InvoiceNo|StockCode|         Description|Quantity|        InvoiceDate|UnitPrice|CustomerID|       Country|day_of_week|\n",
      "+---------+---------+--------------------+--------+-------------------+---------+----------+--------------+-----------+\n",
      "|   537226|    22811|SET OF 6 T-LIGHTS...|       6|2010-12-06 08:34:00|     2.95|   15987.0|United Kingdom|     Monday|\n",
      "|   537226|    21713|CITRONELLA CANDLE...|       8|2010-12-06 08:34:00|      2.1|   15987.0|United Kingdom|     Monday|\n",
      "|   537226|    22927|GREEN GIANT GARDE...|       2|2010-12-06 08:34:00|     5.95|   15987.0|United Kingdom|     Monday|\n",
      "|   537226|    20802|SMALL GLASS SUNDA...|       6|2010-12-06 08:34:00|     1.65|   15987.0|United Kingdom|     Monday|\n",
      "|   537226|    22052|VINTAGE CARAVAN G...|      25|2010-12-06 08:34:00|     0.42|   15987.0|United Kingdom|     Monday|\n",
      "|   537226|    22705|   WRAP GREEN PEARS |      25|2010-12-06 08:34:00|     0.42|   15987.0|United Kingdom|     Monday|\n",
      "|   537226|    20781|GOLD EAR MUFF HEA...|       2|2010-12-06 08:34:00|     5.49|   15987.0|United Kingdom|     Monday|\n",
      "|   537226|    22310|IVORY KNITTED MUG...|       6|2010-12-06 08:34:00|     1.65|   15987.0|United Kingdom|     Monday|\n",
      "|   537226|    22389|PAPERWEIGHT SAVE ...|       6|2010-12-06 08:34:00|     2.55|   15987.0|United Kingdom|     Monday|\n",
      "|   537227|    22941|CHRISTMAS LIGHTS ...|       2|2010-12-06 08:42:00|      8.5|   17677.0|United Kingdom|     Monday|\n",
      "|   537227|    22696| WICKER WREATH LARGE|       6|2010-12-06 08:42:00|     1.95|   17677.0|United Kingdom|     Monday|\n",
      "|   537227|    22193|RED DINER WALL CLOCK|       2|2010-12-06 08:42:00|      8.5|   17677.0|United Kingdom|     Monday|\n",
      "|   537227|    21212|PACK OF 72 RETROS...|     120|2010-12-06 08:42:00|     0.42|   17677.0|United Kingdom|     Monday|\n",
      "|   537227|    21977|PACK OF 60 PINK P...|      48|2010-12-06 08:42:00|     0.55|   17677.0|United Kingdom|     Monday|\n",
      "|   537227|    84991|60 TEATIME FAIRY ...|      48|2010-12-06 08:42:00|     0.55|   17677.0|United Kingdom|     Monday|\n",
      "|   537227|    21213|PACK OF 72 SKULL ...|      48|2010-12-06 08:42:00|     0.55|   17677.0|United Kingdom|     Monday|\n",
      "|   537227|    21080|SET/20 RED RETROS...|      12|2010-12-06 08:42:00|     0.85|   17677.0|United Kingdom|     Monday|\n",
      "|   537227|    22632|HAND WARMER RED R...|      48|2010-12-06 08:42:00|      2.1|   17677.0|United Kingdom|     Monday|\n",
      "|   537227|    22315|200 RED + WHITE B...|      12|2010-12-06 08:42:00|     1.25|   17677.0|United Kingdom|     Monday|\n",
      "|   537227|    21232|STRAWBERRY CERAMI...|      12|2010-12-06 08:42:00|     1.25|   17677.0|United Kingdom|     Monday|\n",
      "+---------+---------+--------------------+--------+-------------------+---------+----------+--------------+-----------+\n",
      "only showing top 20 rows\n",
      "\n"
     ]
    }
   ],
   "source": [
    "df.show()"
   ]
  },
  {
   "cell_type": "code",
   "execution_count": 13,
   "metadata": {},
   "outputs": [
    {
     "name": "stderr",
     "output_type": "stream",
     "text": [
      "[Stage 13:=============================>                            (2 + 2) / 4]\r"
     ]
    },
    {
     "name": "stdout",
     "output_type": "stream",
     "text": [
      "+-----------+\n",
      "|day_of_week|\n",
      "+-----------+\n",
      "|  Wednesday|\n",
      "|    Tuesday|\n",
      "|     Friday|\n",
      "|   Thursday|\n",
      "|     Monday|\n",
      "|     Sunday|\n",
      "+-----------+\n",
      "\n"
     ]
    },
    {
     "name": "stderr",
     "output_type": "stream",
     "text": [
      "                                                                                \r"
     ]
    }
   ],
   "source": [
    "df.select('day_of_week').distinct().show()"
   ]
  },
  {
   "cell_type": "markdown",
   "metadata": {},
   "source": [
    "5-split data into training/test"
   ]
  },
  {
   "cell_type": "code",
   "execution_count": 14,
   "metadata": {},
   "outputs": [],
   "source": [
    "training_set = df.filter(col(\"InvoiceDate\") < '2010-12-13')\n",
    "test_set = df.filter(col(\"InvoiceDate\") >= '2010-12-13')"
   ]
  },
  {
   "cell_type": "code",
   "execution_count": 15,
   "metadata": {},
   "outputs": [
    {
     "data": {
      "text/plain": [
       "(26732, 9)"
      ]
     },
     "execution_count": 15,
     "metadata": {},
     "output_type": "execute_result"
    }
   ],
   "source": [
    "training_set.count(), len(training_set.columns)"
   ]
  },
  {
   "cell_type": "code",
   "execution_count": 16,
   "metadata": {},
   "outputs": [
    {
     "data": {
      "text/plain": [
       "(18676, 9)"
      ]
     },
     "execution_count": 16,
     "metadata": {},
     "output_type": "execute_result"
    }
   ],
   "source": [
    "test_set.count(), len(test_set.columns)"
   ]
  },
  {
   "cell_type": "markdown",
   "metadata": {},
   "source": [
    "6-convert day_of_week to numerical values with StringIndexer"
   ]
  },
  {
   "cell_type": "code",
   "execution_count": 17,
   "metadata": {},
   "outputs": [
    {
     "name": "stderr",
     "output_type": "stream",
     "text": [
      "                                                                                \r"
     ]
    }
   ],
   "source": [
    "indexer = StringIndexer(inputCol='day_of_week', outputCol='day')\n",
    "df = indexer.fit(df).transform(df)"
   ]
  },
  {
   "cell_type": "code",
   "execution_count": 18,
   "metadata": {},
   "outputs": [
    {
     "name": "stderr",
     "output_type": "stream",
     "text": [
      "[Stage 25:=============================>                            (2 + 2) / 4]\r"
     ]
    },
    {
     "name": "stdout",
     "output_type": "stream",
     "text": [
      "+-----------+---+\n",
      "|day_of_week|day|\n",
      "+-----------+---+\n",
      "|   Thursday|4.0|\n",
      "|  Wednesday|0.0|\n",
      "|     Sunday|5.0|\n",
      "|     Friday|1.0|\n",
      "|    Tuesday|3.0|\n",
      "|     Monday|2.0|\n",
      "+-----------+---+\n",
      "\n"
     ]
    },
    {
     "name": "stderr",
     "output_type": "stream",
     "text": [
      "                                                                                \r"
     ]
    }
   ],
   "source": [
    "df.select('day_of_week', 'day').distinct().show()"
   ]
  },
  {
   "cell_type": "markdown",
   "metadata": {},
   "source": [
    "7-one hot encoding"
   ]
  },
  {
   "cell_type": "code",
   "execution_count": 19,
   "metadata": {},
   "outputs": [],
   "source": [
    "encoder = OneHotEncoder(inputCols=['day'], outputCols=['day_of_week_encoded'])\n",
    "df = encoder.fit(df).transform(df)"
   ]
  },
  {
   "cell_type": "code",
   "execution_count": 20,
   "metadata": {},
   "outputs": [
    {
     "name": "stderr",
     "output_type": "stream",
     "text": [
      "[Stage 28:=============================>                            (2 + 2) / 4]\r"
     ]
    },
    {
     "name": "stdout",
     "output_type": "stream",
     "text": [
      "+-----------+---+-------------------+\n",
      "|day_of_week|day|day_of_week_encoded|\n",
      "+-----------+---+-------------------+\n",
      "|     Sunday|5.0|          (5,[],[])|\n",
      "|    Tuesday|3.0|      (5,[3],[1.0])|\n",
      "|   Thursday|4.0|      (5,[4],[1.0])|\n",
      "|     Friday|1.0|      (5,[1],[1.0])|\n",
      "|     Monday|2.0|      (5,[2],[1.0])|\n",
      "|  Wednesday|0.0|      (5,[0],[1.0])|\n",
      "+-----------+---+-------------------+\n",
      "\n"
     ]
    },
    {
     "name": "stderr",
     "output_type": "stream",
     "text": [
      "                                                                                \r"
     ]
    }
   ],
   "source": [
    "df.select('day_of_week', 'day', 'day_of_week_encoded').distinct().show()"
   ]
  },
  {
   "cell_type": "markdown",
   "metadata": {},
   "source": [
    "8-vector assembler"
   ]
  },
  {
   "cell_type": "code",
   "execution_count": 21,
   "metadata": {},
   "outputs": [],
   "source": [
    "assembler = VectorAssembler(inputCols=['UnitPrice', 'Quantity', 'day_of_week_encoded'], outputCol='vector_feature')\n",
    "df = assembler.transform(df)"
   ]
  },
  {
   "cell_type": "code",
   "execution_count": 22,
   "metadata": {},
   "outputs": [
    {
     "name": "stdout",
     "output_type": "stream",
     "text": [
      "+-------------------+---------+--------+-----------+-------------------+----------------------------+\n",
      "|InvoiceDate        |UnitPrice|Quantity|day_of_week|day_of_week_encoded|vector_feature              |\n",
      "+-------------------+---------+--------+-----------+-------------------+----------------------------+\n",
      "|2010-12-06 08:34:00|2.95     |6       |Monday     |(5,[2],[1.0])      |(7,[0,1,4],[2.95,6.0,1.0])  |\n",
      "|2010-12-06 08:34:00|2.1      |8       |Monday     |(5,[2],[1.0])      |(7,[0,1,4],[2.1,8.0,1.0])   |\n",
      "|2010-12-06 08:34:00|5.95     |2       |Monday     |(5,[2],[1.0])      |(7,[0,1,4],[5.95,2.0,1.0])  |\n",
      "|2010-12-06 08:34:00|1.65     |6       |Monday     |(5,[2],[1.0])      |(7,[0,1,4],[1.65,6.0,1.0])  |\n",
      "|2010-12-06 08:34:00|0.42     |25      |Monday     |(5,[2],[1.0])      |(7,[0,1,4],[0.42,25.0,1.0]) |\n",
      "|2010-12-06 08:34:00|0.42     |25      |Monday     |(5,[2],[1.0])      |(7,[0,1,4],[0.42,25.0,1.0]) |\n",
      "|2010-12-06 08:34:00|5.49     |2       |Monday     |(5,[2],[1.0])      |(7,[0,1,4],[5.49,2.0,1.0])  |\n",
      "|2010-12-06 08:34:00|1.65     |6       |Monday     |(5,[2],[1.0])      |(7,[0,1,4],[1.65,6.0,1.0])  |\n",
      "|2010-12-06 08:34:00|2.55     |6       |Monday     |(5,[2],[1.0])      |(7,[0,1,4],[2.55,6.0,1.0])  |\n",
      "|2010-12-06 08:42:00|8.5      |2       |Monday     |(5,[2],[1.0])      |(7,[0,1,4],[8.5,2.0,1.0])   |\n",
      "|2010-12-06 08:42:00|1.95     |6       |Monday     |(5,[2],[1.0])      |(7,[0,1,4],[1.95,6.0,1.0])  |\n",
      "|2010-12-06 08:42:00|8.5      |2       |Monday     |(5,[2],[1.0])      |(7,[0,1,4],[8.5,2.0,1.0])   |\n",
      "|2010-12-06 08:42:00|0.42     |120     |Monday     |(5,[2],[1.0])      |(7,[0,1,4],[0.42,120.0,1.0])|\n",
      "|2010-12-06 08:42:00|0.55     |48      |Monday     |(5,[2],[1.0])      |(7,[0,1,4],[0.55,48.0,1.0]) |\n",
      "|2010-12-06 08:42:00|0.55     |48      |Monday     |(5,[2],[1.0])      |(7,[0,1,4],[0.55,48.0,1.0]) |\n",
      "|2010-12-06 08:42:00|0.55     |48      |Monday     |(5,[2],[1.0])      |(7,[0,1,4],[0.55,48.0,1.0]) |\n",
      "|2010-12-06 08:42:00|0.85     |12      |Monday     |(5,[2],[1.0])      |(7,[0,1,4],[0.85,12.0,1.0]) |\n",
      "|2010-12-06 08:42:00|2.1      |48      |Monday     |(5,[2],[1.0])      |(7,[0,1,4],[2.1,48.0,1.0])  |\n",
      "|2010-12-06 08:42:00|1.25     |12      |Monday     |(5,[2],[1.0])      |(7,[0,1,4],[1.25,12.0,1.0]) |\n",
      "|2010-12-06 08:42:00|1.25     |12      |Monday     |(5,[2],[1.0])      |(7,[0,1,4],[1.25,12.0,1.0]) |\n",
      "+-------------------+---------+--------+-----------+-------------------+----------------------------+\n",
      "only showing top 20 rows\n",
      "\n"
     ]
    }
   ],
   "source": [
    "df.select(\"InvoiceDate\", \"UnitPrice\", \"Quantity\", \"day_of_week\", \"day_of_week_encoded\", \"vector_feature\").show(truncate=False)"
   ]
  },
  {
   "cell_type": "markdown",
   "metadata": {},
   "source": [
    "using pipeline"
   ]
  },
  {
   "cell_type": "code",
   "execution_count": 23,
   "metadata": {},
   "outputs": [],
   "source": [
    "pipeline_indexer = StringIndexer(inputCol='day_of_week', outputCol='day_pipeline')\n",
    "pipeline_encoder = OneHotEncoder(inputCols=['day_pipeline'], outputCols=['day_of_week_encoded_pipeline'])\n",
    "pipeline_assembler = VectorAssembler(inputCols=['UnitPrice', 'Quantity', 'day_of_week_encoded_pipeline'], outputCol='vector_feature_pipeline')\n",
    "\n",
    "pipeline = Pipeline(stages=[pipeline_indexer, pipeline_encoder, pipeline_assembler])\n",
    "df = pipeline.fit(df).transform(df)"
   ]
  },
  {
   "cell_type": "code",
   "execution_count": 24,
   "metadata": {},
   "outputs": [
    {
     "name": "stdout",
     "output_type": "stream",
     "text": [
      "+-------------------+---------+--------+-----------+------------+----------------------------+-----------------------+\n",
      "|        InvoiceDate|UnitPrice|Quantity|day_of_week|day_pipeline|day_of_week_encoded_pipeline|vector_feature_pipeline|\n",
      "+-------------------+---------+--------+-----------+------------+----------------------------+-----------------------+\n",
      "|2010-12-06 08:34:00|     2.95|       6|     Monday|         2.0|               (5,[2],[1.0])|   (7,[0,1,4],[2.95,...|\n",
      "|2010-12-06 08:34:00|      2.1|       8|     Monday|         2.0|               (5,[2],[1.0])|   (7,[0,1,4],[2.1,8...|\n",
      "|2010-12-06 08:34:00|     5.95|       2|     Monday|         2.0|               (5,[2],[1.0])|   (7,[0,1,4],[5.95,...|\n",
      "|2010-12-06 08:34:00|     1.65|       6|     Monday|         2.0|               (5,[2],[1.0])|   (7,[0,1,4],[1.65,...|\n",
      "|2010-12-06 08:34:00|     0.42|      25|     Monday|         2.0|               (5,[2],[1.0])|   (7,[0,1,4],[0.42,...|\n",
      "|2010-12-06 08:34:00|     0.42|      25|     Monday|         2.0|               (5,[2],[1.0])|   (7,[0,1,4],[0.42,...|\n",
      "|2010-12-06 08:34:00|     5.49|       2|     Monday|         2.0|               (5,[2],[1.0])|   (7,[0,1,4],[5.49,...|\n",
      "|2010-12-06 08:34:00|     1.65|       6|     Monday|         2.0|               (5,[2],[1.0])|   (7,[0,1,4],[1.65,...|\n",
      "|2010-12-06 08:34:00|     2.55|       6|     Monday|         2.0|               (5,[2],[1.0])|   (7,[0,1,4],[2.55,...|\n",
      "|2010-12-06 08:42:00|      8.5|       2|     Monday|         2.0|               (5,[2],[1.0])|   (7,[0,1,4],[8.5,2...|\n",
      "|2010-12-06 08:42:00|     1.95|       6|     Monday|         2.0|               (5,[2],[1.0])|   (7,[0,1,4],[1.95,...|\n",
      "|2010-12-06 08:42:00|      8.5|       2|     Monday|         2.0|               (5,[2],[1.0])|   (7,[0,1,4],[8.5,2...|\n",
      "|2010-12-06 08:42:00|     0.42|     120|     Monday|         2.0|               (5,[2],[1.0])|   (7,[0,1,4],[0.42,...|\n",
      "|2010-12-06 08:42:00|     0.55|      48|     Monday|         2.0|               (5,[2],[1.0])|   (7,[0,1,4],[0.55,...|\n",
      "|2010-12-06 08:42:00|     0.55|      48|     Monday|         2.0|               (5,[2],[1.0])|   (7,[0,1,4],[0.55,...|\n",
      "|2010-12-06 08:42:00|     0.55|      48|     Monday|         2.0|               (5,[2],[1.0])|   (7,[0,1,4],[0.55,...|\n",
      "|2010-12-06 08:42:00|     0.85|      12|     Monday|         2.0|               (5,[2],[1.0])|   (7,[0,1,4],[0.85,...|\n",
      "|2010-12-06 08:42:00|      2.1|      48|     Monday|         2.0|               (5,[2],[1.0])|   (7,[0,1,4],[2.1,4...|\n",
      "|2010-12-06 08:42:00|     1.25|      12|     Monday|         2.0|               (5,[2],[1.0])|   (7,[0,1,4],[1.25,...|\n",
      "|2010-12-06 08:42:00|     1.25|      12|     Monday|         2.0|               (5,[2],[1.0])|   (7,[0,1,4],[1.25,...|\n",
      "+-------------------+---------+--------+-----------+------------+----------------------------+-----------------------+\n",
      "only showing top 20 rows\n",
      "\n"
     ]
    }
   ],
   "source": [
    "df.select(\"InvoiceDate\", \"UnitPrice\", \"Quantity\", \"day_of_week\", \"day_pipeline\", \"day_of_week_encoded_pipeline\", \"vector_feature_pipeline\").show()\n"
   ]
  },
  {
   "cell_type": "code",
   "execution_count": 25,
   "metadata": {},
   "outputs": [],
   "source": [
    "def comparaison(x, y):\n",
    "    return x == y\n",
    "\n",
    "df = df.withColumn('comparaison', comparaison(col('day_of_week_encoded'), col('day_of_week_encoded_pipeline')))"
   ]
  },
  {
   "cell_type": "code",
   "execution_count": 26,
   "metadata": {},
   "outputs": [
    {
     "name": "stdout",
     "output_type": "stream",
     "text": [
      "+-----------+\n",
      "|comparaison|\n",
      "+-----------+\n",
      "|       true|\n",
      "+-----------+\n",
      "\n"
     ]
    }
   ],
   "source": [
    "df.select('comparaison').distinct().show()"
   ]
  },
  {
   "cell_type": "markdown",
   "metadata": {},
   "source": [
    "11-transform training set using pipeline"
   ]
  },
  {
   "cell_type": "code",
   "execution_count": 27,
   "metadata": {},
   "outputs": [],
   "source": [
    "training_set = pipeline.fit(training_set).transform(training_set)"
   ]
  },
  {
   "cell_type": "markdown",
   "metadata": {},
   "source": [
    "12-kmeans with clusters=20"
   ]
  },
  {
   "cell_type": "code",
   "execution_count": 28,
   "metadata": {},
   "outputs": [],
   "source": [
    "kmeans = KMeans(k=20)"
   ]
  },
  {
   "cell_type": "markdown",
   "metadata": {},
   "source": [
    "13-training the kmeans model"
   ]
  },
  {
   "cell_type": "code",
   "execution_count": 29,
   "metadata": {},
   "outputs": [],
   "source": [
    "training_set = training_set.withColumnRenamed(\"vector_feature_pipeline\", \"features\")"
   ]
  },
  {
   "cell_type": "code",
   "execution_count": 30,
   "metadata": {},
   "outputs": [
    {
     "name": "stderr",
     "output_type": "stream",
     "text": [
      "25/02/19 01:45:18 WARN InstanceBuilder: Failed to load implementation from:dev.ludovic.netlib.blas.VectorBLAS\n"
     ]
    }
   ],
   "source": [
    "model = kmeans.fit(training_set)"
   ]
  },
  {
   "cell_type": "markdown",
   "metadata": {},
   "source": [
    "14-prediction"
   ]
  },
  {
   "cell_type": "code",
   "execution_count": 31,
   "metadata": {},
   "outputs": [],
   "source": [
    "test_set = pipeline.fit(test_set).transform(test_set)\n",
    "test_set = test_set.withColumnRenamed('vector_feature_pipeline', 'features')"
   ]
  },
  {
   "cell_type": "code",
   "execution_count": 32,
   "metadata": {},
   "outputs": [],
   "source": [
    "prediction = model.transform(test_set)"
   ]
  },
  {
   "cell_type": "markdown",
   "metadata": {},
   "source": [
    "15-calculate the silhoutte coefficient"
   ]
  },
  {
   "cell_type": "code",
   "execution_count": 35,
   "metadata": {},
   "outputs": [],
   "source": [
    "evaluator = ClusteringEvaluator()\n",
    "silhouette = evaluator.evaluate(prediction)"
   ]
  },
  {
   "cell_type": "code",
   "execution_count": 37,
   "metadata": {},
   "outputs": [
    {
     "data": {
      "text/plain": [
       "0.5102704163813974"
      ]
     },
     "execution_count": 37,
     "metadata": {},
     "output_type": "execute_result"
    }
   ],
   "source": [
    "silhouette"
   ]
  }
 ],
 "metadata": {
  "kernelspec": {
   "display_name": "base",
   "language": "python",
   "name": "python3"
  },
  "language_info": {
   "codemirror_mode": {
    "name": "ipython",
    "version": 3
   },
   "file_extension": ".py",
   "mimetype": "text/x-python",
   "name": "python",
   "nbconvert_exporter": "python",
   "pygments_lexer": "ipython3",
   "version": "3.12.4"
  }
 },
 "nbformat": 4,
 "nbformat_minor": 2
}
