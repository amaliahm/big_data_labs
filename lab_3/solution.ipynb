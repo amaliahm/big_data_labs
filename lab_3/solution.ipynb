{
 "cells": [
  {
   "cell_type": "markdown",
   "metadata": {},
   "source": [
    "## spark sql"
   ]
  },
  {
   "cell_type": "markdown",
   "metadata": {},
   "source": [
    "1-create df"
   ]
  },
  {
   "cell_type": "code",
   "execution_count": 2,
   "metadata": {},
   "outputs": [],
   "source": [
    "from pyspark.sql import SparkSession"
   ]
  },
  {
   "cell_type": "code",
   "execution_count": 3,
   "metadata": {},
   "outputs": [
    {
     "name": "stderr",
     "output_type": "stream",
     "text": [
      "Setting default log level to \"WARN\".\n",
      "To adjust logging level use sc.setLogLevel(newLevel). For SparkR, use setLogLevel(newLevel).\n",
      "25/02/11 20:49:22 WARN NativeCodeLoader: Unable to load native-hadoop library for your platform... using builtin-java classes where applicable\n",
      "                                                                                \r"
     ]
    },
    {
     "name": "stdout",
     "output_type": "stream",
     "text": [
      "+--------+----+-----+-----+-----+\n",
      "|  bigram|year|count|pages|books|\n",
      "+--------+----+-----+-----+-----+\n",
      "|! $17.95|1985|    1|    1|    1|\n",
      "|! $17.95|1987|    1|    1|    1|\n",
      "|! $17.95|1990|    1|    1|    1|\n",
      "|! $17.95|1991|    1|    1|    1|\n",
      "|! $17.95|1992|    5|    5|    5|\n",
      "|! $17.95|1993|    2|    2|    2|\n",
      "|! $17.95|1995|    1|    1|    1|\n",
      "|! $17.95|1996|    4|    2|    2|\n",
      "|! $17.95|1997|    6|    5|    5|\n",
      "|! $17.95|1998|    4|    3|    3|\n",
      "+--------+----+-----+-----+-----+\n",
      "only showing top 10 rows\n",
      "\n"
     ]
    }
   ],
   "source": [
    "spark = SparkSession.builder.appName(\"ReadCSV\").getOrCreate()\n",
    "\n",
    "df = spark.read.format(\"csv\").option(\"header\", \"false\").option(\"inferSchema\", \"true\").option(\"sep\", \"\\t\").load(\"ngram.csv\")\n",
    "df = df.toDF('bigram','year','count', 'pages','books')\n",
    "\n",
    "df.show(10)"
   ]
  },
  {
   "cell_type": "markdown",
   "metadata": {},
   "source": [
    "2-tmp table"
   ]
  },
  {
   "cell_type": "code",
   "execution_count": 5,
   "metadata": {},
   "outputs": [],
   "source": [
    "df.createOrReplaceTempView(\"ngram\")"
   ]
  },
  {
   "cell_type": "markdown",
   "metadata": {},
   "source": [
    "3.1-return all bigrams where the Count is greater than five."
   ]
  },
  {
   "cell_type": "code",
   "execution_count": null,
   "metadata": {},
   "outputs": [
    {
     "name": "stdout",
     "output_type": "stream",
     "text": [
      "+--------+----+-----+-----+-----+\n",
      "|  bigram|year|count|pages|books|\n",
      "+--------+----+-----+-----+-----+\n",
      "|! $17.95|1997|    6|    5|    5|\n",
      "|! $17.95|1999|   11|   10|   10|\n",
      "|! $17.95|2000|   11|    9|    9|\n",
      "|! $17.95|2004|   14|   14|   14|\n",
      "|! $17.95|2005|   13|   13|   13|\n",
      "|    ! 09|1899|    6|    6|    5|\n",
      "|    ! 09|1916|    7|    7|    4|\n",
      "|    ! 09|1936|    6|    6|    6|\n",
      "|    ! 09|1997|    6|    5|    5|\n",
      "|    ! 09|1999|   11|   10|   10|\n",
      "+--------+----+-----+-----+-----+\n",
      "only showing top 10 rows\n",
      "\n"
     ]
    }
   ],
   "source": [
    "# sql\n",
    "result1 = spark.sql(\"Select * from ngram where count > 5\")\n",
    "result1.show(10)"
   ]
  },
  {
   "cell_type": "code",
   "execution_count": 12,
   "metadata": {},
   "outputs": [
    {
     "name": "stdout",
     "output_type": "stream",
     "text": [
      "+--------+\n",
      "|  bigram|\n",
      "+--------+\n",
      "|! $17.95|\n",
      "|! $17.95|\n",
      "|! $17.95|\n",
      "|! $17.95|\n",
      "|! $17.95|\n",
      "|    ! 09|\n",
      "|    ! 09|\n",
      "|    ! 09|\n",
      "|    ! 09|\n",
      "|    ! 09|\n",
      "+--------+\n",
      "only showing top 10 rows\n",
      "\n"
     ]
    }
   ],
   "source": [
    "# sparkSql\n",
    "df.filter(\"count > 5\").select(\"bigram\").show(10)"
   ]
  },
  {
   "cell_type": "markdown",
   "metadata": {},
   "source": [
    "3.2-return the total number of bigrams for each year."
   ]
  },
  {
   "cell_type": "markdown",
   "metadata": {},
   "source": [
    "3.3-return the bigrams with the highest Count for each year."
   ]
  },
  {
   "cell_type": "markdown",
   "metadata": {},
   "source": [
    "3.4-return all bigrams that appeared in 20 different years."
   ]
  },
  {
   "cell_type": "markdown",
   "metadata": {},
   "source": [
    "3.5-return all bigrams that contain the character '!' in the first part and the character '9' in the second part (the two parts are separated by a space)."
   ]
  },
  {
   "cell_type": "markdown",
   "metadata": {},
   "source": [
    "3.6-return the bigrams that appeared in all the years present in the dataset."
   ]
  },
  {
   "cell_type": "markdown",
   "metadata": {},
   "source": [
    "3.7-return the total number of pages and books in which each bigram appeared for each available year, sorted in alphabetical order."
   ]
  },
  {
   "cell_type": "markdown",
   "metadata": {},
   "source": [
    "3.8-return the total number of distinct bigrams for each year, sorted in descending order of the year."
   ]
  }
 ],
 "metadata": {
  "kernelspec": {
   "display_name": "base",
   "language": "python",
   "name": "python3"
  },
  "language_info": {
   "codemirror_mode": {
    "name": "ipython",
    "version": 3
   },
   "file_extension": ".py",
   "mimetype": "text/x-python",
   "name": "python",
   "nbconvert_exporter": "python",
   "pygments_lexer": "ipython3",
   "version": "3.12.4"
  }
 },
 "nbformat": 4,
 "nbformat_minor": 2
}
