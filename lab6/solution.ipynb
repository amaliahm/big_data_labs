{
 "cells": [
  {
   "cell_type": "code",
   "execution_count": 25,
   "metadata": {},
   "outputs": [],
   "source": [
    "from pyspark.sql.functions import desc\n",
    "from pyspark.sql import SparkSession\n",
    "from graphframes import GraphFrame\n",
    "import pyspark"
   ]
  },
  {
   "cell_type": "code",
   "execution_count": 2,
   "metadata": {},
   "outputs": [
    {
     "name": "stdout",
     "output_type": "stream",
     "text": [
      ":: loading settings :: url = jar:file:/home/mina/anaconda3/lib/python3.12/site-packages/pyspark/jars/ivy-2.5.1.jar!/org/apache/ivy/core/settings/ivysettings.xml\n"
     ]
    },
    {
     "name": "stderr",
     "output_type": "stream",
     "text": [
      "Ivy Default Cache set to: /home/mina/.ivy2/cache\n",
      "The jars for the packages stored in: /home/mina/.ivy2/jars\n",
      "graphframes#graphframes added as a dependency\n",
      ":: resolving dependencies :: org.apache.spark#spark-submit-parent-fa5096f7-195f-41a5-a57a-ab28a75adf8e;1.0\n",
      "\tconfs: [default]\n",
      "\tfound graphframes#graphframes;0.8.2-spark3.2-s_2.12 in spark-packages\n",
      "\tfound org.slf4j#slf4j-api;1.7.16 in central\n",
      ":: resolution report :: resolve 434ms :: artifacts dl 10ms\n",
      "\t:: modules in use:\n",
      "\tgraphframes#graphframes;0.8.2-spark3.2-s_2.12 from spark-packages in [default]\n",
      "\torg.slf4j#slf4j-api;1.7.16 from central in [default]\n",
      "\t---------------------------------------------------------------------\n",
      "\t|                  |            modules            ||   artifacts   |\n",
      "\t|       conf       | number| search|dwnlded|evicted|| number|dwnlded|\n",
      "\t---------------------------------------------------------------------\n",
      "\t|      default     |   2   |   0   |   0   |   0   ||   2   |   0   |\n",
      "\t---------------------------------------------------------------------\n",
      ":: retrieving :: org.apache.spark#spark-submit-parent-fa5096f7-195f-41a5-a57a-ab28a75adf8e\n",
      "\tconfs: [default]\n",
      "\t0 artifacts copied, 2 already retrieved (0kB/7ms)\n",
      "25/03/05 08:15:03 WARN NativeCodeLoader: Unable to load native-hadoop library for your platform... using builtin-java classes where applicable\n",
      "Setting default log level to \"WARN\".\n",
      "To adjust logging level use sc.setLogLevel(newLevel). For SparkR, use setLogLevel(newLevel).\n"
     ]
    }
   ],
   "source": [
    "spark = (SparkSession.builder.config('spark.jars.packages', 'graphframes:graphframes:0.8.2-spark3.2-s_2.12').appName(\"lab6\").getOrCreate())"
   ]
  },
  {
   "cell_type": "markdown",
   "metadata": {},
   "source": [
    "1- create df"
   ]
  },
  {
   "cell_type": "code",
   "execution_count": 7,
   "metadata": {},
   "outputs": [
    {
     "name": "stdout",
     "output_type": "stream",
     "text": [
      "+----------+--------------------+---------+-----------+---------+--------+------------+\n",
      "|station_id|                name|      lat|       long|dockcount|landmark|installation|\n",
      "+----------+--------------------+---------+-----------+---------+--------+------------+\n",
      "|         2|San Jose Diridon ...|37.329732|-121.901782|       27|San Jose|    8/6/2013|\n",
      "|         3|San Jose Civic Ce...|37.330698|-121.888979|       15|San Jose|    8/5/2013|\n",
      "|         4|Santa Clara at Al...|37.333988|-121.894902|       11|San Jose|    8/6/2013|\n",
      "|         5|    Adobe on Almaden|37.331415|  -121.8932|       19|San Jose|    8/5/2013|\n",
      "|         6|    San Pedro Square|37.336721|-121.894074|       15|San Jose|    8/7/2013|\n",
      "+----------+--------------------+---------+-----------+---------+--------+------------+\n",
      "only showing top 5 rows\n",
      "\n"
     ]
    }
   ],
   "source": [
    "stations = spark.read.option(\"header\",\"true\").csv(\"station_data.csv\")\n",
    "stations.show(5)"
   ]
  },
  {
   "cell_type": "code",
   "execution_count": 8,
   "metadata": {},
   "outputs": [
    {
     "name": "stdout",
     "output_type": "stream",
     "text": [
      "+-------+--------+---------------+--------------------+--------------+---------------+--------------------+------------+------+---------------+--------+\n",
      "|Trip ID|Duration|     Start Date|       Start Station|Start Terminal|       End Date|         End Station|End Terminal|Bike #|Subscriber Type|Zip Code|\n",
      "+-------+--------+---------------+--------------------+--------------+---------------+--------------------+------------+------+---------------+--------+\n",
      "| 913460|     765|8/31/2015 23:26|Harry Bridges Pla...|            50|8/31/2015 23:39|San Francisco Cal...|          70|   288|     Subscriber|    2139|\n",
      "| 913459|    1036|8/31/2015 23:11|San Antonio Shopp...|            31|8/31/2015 23:28|Mountain View Cit...|          27|    35|     Subscriber|   95032|\n",
      "| 913455|     307|8/31/2015 23:13|      Post at Kearny|            47|8/31/2015 23:18|   2nd at South Park|          64|   468|     Subscriber|   94107|\n",
      "| 913454|     409|8/31/2015 23:10|  San Jose City Hall|            10|8/31/2015 23:17| San Salvador at 1st|           8|    68|     Subscriber|   95113|\n",
      "| 913453|     789|8/31/2015 23:09|Embarcadero at Fo...|            51|8/31/2015 23:22|Embarcadero at Sa...|          60|   487|       Customer|    9069|\n",
      "+-------+--------+---------------+--------------------+--------------+---------------+--------------------+------------+------+---------------+--------+\n",
      "only showing top 5 rows\n",
      "\n"
     ]
    }
   ],
   "source": [
    "trips = spark.read.option(\"header\",\"true\").csv(\"trip_data.csv\") \n",
    "trips.show(5)"
   ]
  },
  {
   "cell_type": "markdown",
   "metadata": {},
   "source": [
    "2- rename name column to id"
   ]
  },
  {
   "cell_type": "code",
   "execution_count": 10,
   "metadata": {},
   "outputs": [
    {
     "name": "stdout",
     "output_type": "stream",
     "text": [
      "+----------+--------------------+---------+-----------+---------+-------------+------------+\n",
      "|station_id|                  id|      lat|       long|dockcount|     landmark|installation|\n",
      "+----------+--------------------+---------+-----------+---------+-------------+------------+\n",
      "|        51|Embarcadero at Fo...|37.791464|-122.391034|       19|San Francisco|   8/20/2013|\n",
      "|        58|San Francisco Cit...| 37.77865|-122.418235|       19|San Francisco|   8/21/2013|\n",
      "|        60|Embarcadero at Sa...| 37.80477|-122.403234|       15|San Francisco|   8/21/2013|\n",
      "|        65|     Townsend at 7th|37.771058|-122.402717|       15|San Francisco|   8/22/2013|\n",
      "|        63|       Howard at 2nd|37.786978|-122.398108|       19|San Francisco|   8/22/2013|\n",
      "+----------+--------------------+---------+-----------+---------+-------------+------------+\n",
      "only showing top 5 rows\n",
      "\n"
     ]
    }
   ],
   "source": [
    "vertices = stations.withColumnRenamed(\"name\", \"id\").distinct()\n",
    "vertices.show(5)"
   ]
  },
  {
   "cell_type": "markdown",
   "metadata": {},
   "source": [
    "3- rename start/end station to src and dst"
   ]
  },
  {
   "cell_type": "code",
   "execution_count": 12,
   "metadata": {},
   "outputs": [
    {
     "name": "stdout",
     "output_type": "stream",
     "text": [
      "+-------+--------+---------------+--------------------+--------------+---------------+--------------------+------------+------+---------------+--------+\n",
      "|Trip ID|Duration|     Start Date|                 src|Start Terminal|       End Date|                 dst|End Terminal|Bike #|Subscriber Type|Zip Code|\n",
      "+-------+--------+---------------+--------------------+--------------+---------------+--------------------+------------+------+---------------+--------+\n",
      "| 913460|     765|8/31/2015 23:26|Harry Bridges Pla...|            50|8/31/2015 23:39|San Francisco Cal...|          70|   288|     Subscriber|    2139|\n",
      "| 913459|    1036|8/31/2015 23:11|San Antonio Shopp...|            31|8/31/2015 23:28|Mountain View Cit...|          27|    35|     Subscriber|   95032|\n",
      "| 913455|     307|8/31/2015 23:13|      Post at Kearny|            47|8/31/2015 23:18|   2nd at South Park|          64|   468|     Subscriber|   94107|\n",
      "| 913454|     409|8/31/2015 23:10|  San Jose City Hall|            10|8/31/2015 23:17| San Salvador at 1st|           8|    68|     Subscriber|   95113|\n",
      "| 913453|     789|8/31/2015 23:09|Embarcadero at Fo...|            51|8/31/2015 23:22|Embarcadero at Sa...|          60|   487|       Customer|    9069|\n",
      "+-------+--------+---------------+--------------------+--------------+---------------+--------------------+------------+------+---------------+--------+\n",
      "only showing top 5 rows\n",
      "\n"
     ]
    }
   ],
   "source": [
    "edges = trips.withColumnRenamed(\"Start Station\", \"src\").withColumnRenamed(\"End Station\", \"dst\") \n",
    "edges.show(5)"
   ]
  },
  {
   "cell_type": "markdown",
   "metadata": {},
   "source": [
    "4- graphFrame"
   ]
  },
  {
   "cell_type": "code",
   "execution_count": 18,
   "metadata": {},
   "outputs": [
    {
     "name": "stderr",
     "output_type": "stream",
     "text": [
      "/home/mina/anaconda3/lib/python3.12/site-packages/pyspark/sql/dataframe.py:168: UserWarning: DataFrame.sql_ctx is an internal property, and will be removed in future releases. Use DataFrame.sparkSession instead.\n",
      "  warnings.warn(\n"
     ]
    },
    {
     "name": "stdout",
     "output_type": "stream",
     "text": [
      "+-------+--------+---------------+--------------------+--------------+---------------+--------------------+------------+------+---------------+--------+\n",
      "|Trip ID|Duration|     Start Date|                 src|Start Terminal|       End Date|                 dst|End Terminal|Bike #|Subscriber Type|Zip Code|\n",
      "+-------+--------+---------------+--------------------+--------------+---------------+--------------------+------------+------+---------------+--------+\n",
      "| 913460|     765|8/31/2015 23:26|Harry Bridges Pla...|            50|8/31/2015 23:39|San Francisco Cal...|          70|   288|     Subscriber|    2139|\n",
      "| 913459|    1036|8/31/2015 23:11|San Antonio Shopp...|            31|8/31/2015 23:28|Mountain View Cit...|          27|    35|     Subscriber|   95032|\n",
      "| 913455|     307|8/31/2015 23:13|      Post at Kearny|            47|8/31/2015 23:18|   2nd at South Park|          64|   468|     Subscriber|   94107|\n",
      "| 913454|     409|8/31/2015 23:10|  San Jose City Hall|            10|8/31/2015 23:17| San Salvador at 1st|           8|    68|     Subscriber|   95113|\n",
      "| 913453|     789|8/31/2015 23:09|Embarcadero at Fo...|            51|8/31/2015 23:22|Embarcadero at Sa...|          60|   487|       Customer|    9069|\n",
      "+-------+--------+---------------+--------------------+--------------+---------------+--------------------+------------+------+---------------+--------+\n",
      "only showing top 5 rows\n",
      "\n"
     ]
    }
   ],
   "source": [
    "graph = GraphFrame(vertices, edges)\n",
    "graph.edges.show(5)"
   ]
  },
  {
   "cell_type": "code",
   "execution_count": 19,
   "metadata": {},
   "outputs": [
    {
     "name": "stderr",
     "output_type": "stream",
     "text": [
      "                                                                                \r"
     ]
    },
    {
     "name": "stdout",
     "output_type": "stream",
     "text": [
      "+----------+--------------------+---------+-----------+---------+-------------+------------+\n",
      "|station_id|                  id|      lat|       long|dockcount|     landmark|installation|\n",
      "+----------+--------------------+---------+-----------+---------+-------------+------------+\n",
      "|        51|Embarcadero at Fo...|37.791464|-122.391034|       19|San Francisco|   8/20/2013|\n",
      "|        58|San Francisco Cit...| 37.77865|-122.418235|       19|San Francisco|   8/21/2013|\n",
      "|        60|Embarcadero at Sa...| 37.80477|-122.403234|       15|San Francisco|   8/21/2013|\n",
      "|        65|     Townsend at 7th|37.771058|-122.402717|       15|San Francisco|   8/22/2013|\n",
      "|        63|       Howard at 2nd|37.786978|-122.398108|       19|San Francisco|   8/22/2013|\n",
      "+----------+--------------------+---------+-----------+---------+-------------+------------+\n",
      "only showing top 5 rows\n",
      "\n"
     ]
    }
   ],
   "source": [
    "graph.vertices.show(5)"
   ]
  },
  {
   "cell_type": "markdown",
   "metadata": {},
   "source": [
    "5- the nbr of trips made between each src and dst (DESC)"
   ]
  },
  {
   "cell_type": "code",
   "execution_count": 20,
   "metadata": {},
   "outputs": [
    {
     "name": "stdout",
     "output_type": "stream",
     "text": [
      "+--------------------+--------------------+-----+\n",
      "|                 src|                 dst|count|\n",
      "+--------------------+--------------------+-----+\n",
      "|San Francisco Cal...|     Townsend at 7th|    4|\n",
      "|       5th at Howard|San Francisco Cal...|    3|\n",
      "|San Francisco Cal...|  Powell Street BART|    2|\n",
      "|     2nd at Townsend|   Market at Sansome|    2|\n",
      "|     Spear at Folsom|     2nd at Townsend|    2|\n",
      "|   Market at Sansome|Broadway St at Ba...|    2|\n",
      "|    Davis at Jackson|Embarcadero at Sa...|    2|\n",
      "|San Francisco Cal...|   2nd at South Park|    2|\n",
      "|   Steuart at Market|San Francisco Cal...|    2|\n",
      "|       Market at 4th|San Francisco Cal...|    2|\n",
      "+--------------------+--------------------+-----+\n",
      "only showing top 10 rows\n",
      "\n"
     ]
    }
   ],
   "source": [
    "graph.edges.groupBy(\"src\", \"dst\").count().orderBy(desc(\"count\")).show(10) "
   ]
  },
  {
   "cell_type": "markdown",
   "metadata": {},
   "source": [
    "6- the nbr of trips that start/end at \"Townsend at 7th\" station (DESC)"
   ]
  },
  {
   "cell_type": "code",
   "execution_count": 21,
   "metadata": {},
   "outputs": [
    {
     "name": "stdout",
     "output_type": "stream",
     "text": [
      "+--------------------+--------------------+-----+\n",
      "|                 src|                 dst|count|\n",
      "+--------------------+--------------------+-----+\n",
      "|San Francisco Cal...|     Townsend at 7th|    4|\n",
      "|       5th at Howard|     Townsend at 7th|    1|\n",
      "|     Townsend at 7th|     Spear at Folsom|    1|\n",
      "|     Townsend at 7th|Harry Bridges Pla...|    1|\n",
      "|     Spear at Folsom|     Townsend at 7th|    1|\n",
      "|       Howard at 2nd|     Townsend at 7th|    1|\n",
      "+--------------------+--------------------+-----+\n",
      "\n"
     ]
    }
   ],
   "source": [
    "graph.edges.where(\"src = 'Townsend at 7th' OR dst = 'Townsend at 7th'\").groupBy(\"src\", \"dst\").count().orderBy(desc(\"count\")).show(10)"
   ]
  },
  {
   "cell_type": "markdown",
   "metadata": {},
   "source": [
    "7- the vertices that have never been a dst for a trip starting from \"Spear at Folsom\""
   ]
  },
  {
   "cell_type": "code",
   "execution_count": 24,
   "metadata": {},
   "outputs": [
    {
     "name": "stdout",
     "output_type": "stream",
     "text": [
      "+---------------------------------------------+\n",
      "|dst                                          |\n",
      "+---------------------------------------------+\n",
      "|Powell at Post (Union Square)                |\n",
      "|Market at Sansome                            |\n",
      "|Spear at Folsom                              |\n",
      "|San Salvador at 1st                          |\n",
      "|Rengstorff Avenue / California Street        |\n",
      "|Civic Center BART (7th at Market)            |\n",
      "|Mountain View City Hall                      |\n",
      "|Market at 4th                                |\n",
      "|Temporary Transbay Terminal (Howard at Beale)|\n",
      "|Steuart at Market                            |\n",
      "+---------------------------------------------+\n",
      "only showing top 10 rows\n",
      "\n"
     ]
    }
   ],
   "source": [
    "graph.edges.select(\"dst\").distinct().subtract(graph.edges.where(\"src = 'Spear at Folsom'\").select(\"dst\").distinct()).show(10, False)"
   ]
  },
  {
   "cell_type": "markdown",
   "metadata": {},
   "source": [
    "8- the station with max nbr of incoming trips"
   ]
  },
  {
   "cell_type": "code",
   "execution_count": 28,
   "metadata": {},
   "outputs": [
    {
     "name": "stdout",
     "output_type": "stream",
     "text": [
      "+---------------------------------------+--------------+\n",
      "|dst                                    |incoming_trips|\n",
      "+---------------------------------------+--------------+\n",
      "|San Francisco Caltrain 2 (330 Townsend)|9             |\n",
      "+---------------------------------------+--------------+\n",
      "\n"
     ]
    }
   ],
   "source": [
    "graph.edges.groupBy(\"dst\").agg(count(\"*\").alias(\"incoming_trips\")).orderBy(col(\"incoming_trips\").desc()).limit(1).show(1, False) "
   ]
  },
  {
   "cell_type": "markdown",
   "metadata": {},
   "source": [
    "9- trip with the longest duration"
   ]
  },
  {
   "cell_type": "code",
   "execution_count": 29,
   "metadata": {},
   "outputs": [
    {
     "name": "stdout",
     "output_type": "stream",
     "text": [
      "+-------+--------+---------------+--------------+--------------+---------------+--------------------+------------+------+---------------+--------+\n",
      "|Trip ID|Duration|     Start Date|           src|Start Terminal|       End Date|                 dst|End Terminal|Bike #|Subscriber Type|Zip Code|\n",
      "+-------+--------+---------------+--------------+--------------+---------------+--------------------+------------+------+---------------+--------+\n",
      "| 913448|     932|8/31/2015 21:57|Post at Kearny|            47|8/31/2015 22:12|South Van Ness at...|          66|   472|     Subscriber|   94702|\n",
      "+-------+--------+---------------+--------------+--------------+---------------+--------------------+------------+------+---------------+--------+\n",
      "\n"
     ]
    }
   ],
   "source": [
    "graph.edges.orderBy(desc(\"Duration\")).limit(1).show()"
   ]
  },
  {
   "cell_type": "markdown",
   "metadata": {},
   "source": [
    "10- subgraph that contains only trips that start/end at \"Townsend at 7th\""
   ]
  },
  {
   "cell_type": "code",
   "execution_count": 30,
   "metadata": {},
   "outputs": [
    {
     "name": "stderr",
     "output_type": "stream",
     "text": [
      "/home/mina/anaconda3/lib/python3.12/site-packages/pyspark/sql/dataframe.py:168: UserWarning: DataFrame.sql_ctx is an internal property, and will be removed in future releases. Use DataFrame.sparkSession instead.\n",
      "  warnings.warn(\n"
     ]
    }
   ],
   "source": [
    "subgraph = GraphFrame(graph.vertices, graph.edges.where(\"src = 'Townsend at 7th' OR dst = 'Townsend at 7th'\"))"
   ]
  },
  {
   "cell_type": "markdown",
   "metadata": {},
   "source": [
    "11- all paths that form triangle pattern between three station"
   ]
  },
  {
   "cell_type": "code",
   "execution_count": 31,
   "metadata": {},
   "outputs": [
    {
     "name": "stderr",
     "output_type": "stream",
     "text": [
      "/home/mina/anaconda3/lib/python3.12/site-packages/pyspark/sql/dataframe.py:147: UserWarning: DataFrame constructor is internal. Do not directly use it.\n",
      "  warnings.warn(\"DataFrame constructor is internal. Do not directly use it.\")\n",
      "                                                                                \r"
     ]
    },
    {
     "name": "stdout",
     "output_type": "stream",
     "text": [
      "+------------------------------------------------------------------------------------------------+-----------------------------------------------------------------------------------------------------------------------------------------+------------------------------------------------------------------------------------------------+-------------------------------------------------------------------------------------------------------------------------------------------+-----------------------------------------------------------------------------+-----------------------------------------------------------------------------------------------------------------------------------------+\n",
      "|a                                                                                               |ab                                                                                                                                       |b                                                                                               |bc                                                                                                                                         |c                                                                            |ca                                                                                                                                       |\n",
      "+------------------------------------------------------------------------------------------------+-----------------------------------------------------------------------------------------------------------------------------------------+------------------------------------------------------------------------------------------------+-------------------------------------------------------------------------------------------------------------------------------------------+-----------------------------------------------------------------------------+-----------------------------------------------------------------------------------------------------------------------------------------+\n",
      "|{60, Embarcadero at Sansome, 37.80477, -122.403234, 15, San Francisco, 8/21/2013}               |{913450, 255, 8/31/2015 22:16, Embarcadero at Sansome, 60, 8/31/2015 22:20, Steuart at Market, 74, 470, Subscriber, 94111}               |{74, Steuart at Market, 37.794139, -122.394434, 23, San Francisco, 8/25/2013}                   |{913315, 518, 8/31/2015 19:33, Steuart at Market, 74, 8/31/2015 19:42, 2nd at Townsend, 61, 463, Subscriber, 94107}                        |{61, 2nd at Townsend, 37.780526, -122.390288, 27, San Francisco, 8/22/2013}  |{913383, 1435, 8/31/2015 20:20, 2nd at Townsend, 61, 8/31/2015 20:44, Embarcadero at Sansome, 60, 604, Customer, 98103}                  |\n",
      "|{60, Embarcadero at Sansome, 37.80477, -122.403234, 15, San Francisco, 8/21/2013}               |{913443, 691, 8/31/2015 21:49, Embarcadero at Sansome, 60, 8/31/2015 22:01, Market at Sansome, 77, 434, Subscriber, 94109}               |{77, Market at Sansome, 37.789625, -122.400811, 27, San Francisco, 8/25/2013}                   |{913403, 497, 8/31/2015 20:37, Market at Sansome, 77, 8/31/2015 20:45, 2nd at Townsend, 61, 359, Subscriber, 94105}                        |{61, 2nd at Townsend, 37.780526, -122.390288, 27, San Francisco, 8/22/2013}  |{913383, 1435, 8/31/2015 20:20, 2nd at Townsend, 61, 8/31/2015 20:44, Embarcadero at Sansome, 60, 604, Customer, 98103}                  |\n",
      "|{69, San Francisco Caltrain 2 (330 Townsend), 37.7766, -122.39547, 23, San Francisco, 8/23/2013}|{913434, 283, 8/31/2015 21:19, San Francisco Caltrain 2 (330 Townsend), 69, 8/31/2015 21:24, Townsend at 7th, 65, 521, Subscriber, 94107}|{65, Townsend at 7th, 37.771058, -122.402717, 15, San Francisco, 8/22/2013}                     |{913371, 663, 8/31/2015 20:10, Townsend at 7th, 65, 8/31/2015 20:21, Spear at Folsom, 49, 405, Subscriber, 94103}                          |{49, Spear at Folsom, 37.790302, -122.390637, 19, San Francisco, 8/20/2013}  |{913432, 703, 8/31/2015 21:16, Spear at Folsom, 49, 8/31/2015 21:28, San Francisco Caltrain 2 (330 Townsend), 69, 426, Subscriber, 95032}|\n",
      "|{49, Spear at Folsom, 37.790302, -122.390637, 19, San Francisco, 8/20/2013}                     |{913432, 703, 8/31/2015 21:16, Spear at Folsom, 49, 8/31/2015 21:28, San Francisco Caltrain 2 (330 Townsend), 69, 426, Subscriber, 95032}|{69, San Francisco Caltrain 2 (330 Townsend), 37.7766, -122.39547, 23, San Francisco, 8/23/2013}|{913308, 185, 8/31/2015 19:30, San Francisco Caltrain 2 (330 Townsend), 69, 8/31/2015 19:33, 2nd at Townsend, 61, 541, Subscriber, 94158}  |{61, 2nd at Townsend, 37.780526, -122.390288, 27, San Francisco, 8/22/2013}  |{913297, 501, 8/31/2015 19:21, 2nd at Townsend, 61, 8/31/2015 19:29, Spear at Folsom, 49, 607, Subscriber, 94107}                        |\n",
      "|{49, Spear at Folsom, 37.790302, -122.390637, 19, San Francisco, 8/20/2013}                     |{913432, 703, 8/31/2015 21:16, Spear at Folsom, 49, 8/31/2015 21:28, San Francisco Caltrain 2 (330 Townsend), 69, 426, Subscriber, 95032}|{69, San Francisco Caltrain 2 (330 Townsend), 37.7766, -122.39547, 23, San Francisco, 8/23/2013}|{913316, 300, 8/31/2015 19:34, San Francisco Caltrain 2 (330 Townsend), 69, 8/31/2015 19:39, Townsend at 7th, 65, 368, Subscriber, 94107}  |{65, Townsend at 7th, 37.771058, -122.402717, 15, San Francisco, 8/22/2013}  |{913371, 663, 8/31/2015 20:10, Townsend at 7th, 65, 8/31/2015 20:21, Spear at Folsom, 49, 405, Subscriber, 94103}                        |\n",
      "|{49, Spear at Folsom, 37.790302, -122.390637, 19, San Francisco, 8/20/2013}                     |{913432, 703, 8/31/2015 21:16, Spear at Folsom, 49, 8/31/2015 21:28, San Francisco Caltrain 2 (330 Townsend), 69, 426, Subscriber, 95032}|{69, San Francisco Caltrain 2 (330 Townsend), 37.7766, -122.39547, 23, San Francisco, 8/23/2013}|{913324, 375, 8/31/2015 19:41, San Francisco Caltrain 2 (330 Townsend), 69, 8/31/2015 19:47, 2nd at South Park, 64, 558, Subscriber, 94105}|{64, 2nd at South Park, 37.782259, -122.392738, 15, San Francisco, 8/22/2013}|{913303, 296, 8/31/2015 19:27, 2nd at South Park, 64, 8/31/2015 19:32, Spear at Folsom, 49, 672, Subscriber, 94105}                      |\n",
      "|{49, Spear at Folsom, 37.790302, -122.390637, 19, San Francisco, 8/20/2013}                     |{913432, 703, 8/31/2015 21:16, Spear at Folsom, 49, 8/31/2015 21:28, San Francisco Caltrain 2 (330 Townsend), 69, 426, Subscriber, 95032}|{69, San Francisco Caltrain 2 (330 Townsend), 37.7766, -122.39547, 23, San Francisco, 8/23/2013}|{913337, 384, 8/31/2015 19:47, San Francisco Caltrain 2 (330 Townsend), 69, 8/31/2015 19:54, 2nd at South Park, 64, 277, Subscriber, 94107}|{64, 2nd at South Park, 37.782259, -122.392738, 15, San Francisco, 8/22/2013}|{913303, 296, 8/31/2015 19:27, 2nd at South Park, 64, 8/31/2015 19:32, Spear at Folsom, 49, 672, Subscriber, 94105}                      |\n",
      "|{49, Spear at Folsom, 37.790302, -122.390637, 19, San Francisco, 8/20/2013}                     |{913432, 703, 8/31/2015 21:16, Spear at Folsom, 49, 8/31/2015 21:28, San Francisco Caltrain 2 (330 Townsend), 69, 426, Subscriber, 95032}|{69, San Francisco Caltrain 2 (330 Townsend), 37.7766, -122.39547, 23, San Francisco, 8/23/2013}|{913361, 236, 8/31/2015 20:05, San Francisco Caltrain 2 (330 Townsend), 69, 8/31/2015 20:09, Townsend at 7th, 65, 270, Subscriber, 94107}  |{65, Townsend at 7th, 37.771058, -122.402717, 15, San Francisco, 8/22/2013}  |{913371, 663, 8/31/2015 20:10, Townsend at 7th, 65, 8/31/2015 20:21, Spear at Folsom, 49, 405, Subscriber, 94103}                        |\n",
      "|{49, Spear at Folsom, 37.790302, -122.390637, 19, San Francisco, 8/20/2013}                     |{913432, 703, 8/31/2015 21:16, Spear at Folsom, 49, 8/31/2015 21:28, San Francisco Caltrain 2 (330 Townsend), 69, 426, Subscriber, 95032}|{69, San Francisco Caltrain 2 (330 Townsend), 37.7766, -122.39547, 23, San Francisco, 8/23/2013}|{913404, 273, 8/31/2015 20:39, San Francisco Caltrain 2 (330 Townsend), 69, 8/31/2015 20:44, Townsend at 7th, 65, 287, Subscriber, 94107}  |{65, Townsend at 7th, 37.771058, -122.402717, 15, San Francisco, 8/22/2013}  |{913371, 663, 8/31/2015 20:10, Townsend at 7th, 65, 8/31/2015 20:21, Spear at Folsom, 49, 405, Subscriber, 94103}                        |\n",
      "|{49, Spear at Folsom, 37.790302, -122.390637, 19, San Francisco, 8/20/2013}                     |{913432, 703, 8/31/2015 21:16, Spear at Folsom, 49, 8/31/2015 21:28, San Francisco Caltrain 2 (330 Townsend), 69, 426, Subscriber, 95032}|{69, San Francisco Caltrain 2 (330 Townsend), 37.7766, -122.39547, 23, San Francisco, 8/23/2013}|{913434, 283, 8/31/2015 21:19, San Francisco Caltrain 2 (330 Townsend), 69, 8/31/2015 21:24, Townsend at 7th, 65, 521, Subscriber, 94107}  |{65, Townsend at 7th, 37.771058, -122.402717, 15, San Francisco, 8/22/2013}  |{913371, 663, 8/31/2015 20:10, Townsend at 7th, 65, 8/31/2015 20:21, Spear at Folsom, 49, 405, Subscriber, 94103}                        |\n",
      "+------------------------------------------------------------------------------------------------+-----------------------------------------------------------------------------------------------------------------------------------------+------------------------------------------------------------------------------------------------+-------------------------------------------------------------------------------------------------------------------------------------------+-----------------------------------------------------------------------------+-----------------------------------------------------------------------------------------------------------------------------------------+\n",
      "only showing top 10 rows\n",
      "\n"
     ]
    }
   ],
   "source": [
    "graph.find(\"(a)-[ab]->(b); (b)-[bc]->(c); (c)-[ca]->(a)\").show(10, False)"
   ]
  },
  {
   "cell_type": "code",
   "execution_count": 32,
   "metadata": {},
   "outputs": [
    {
     "name": "stderr",
     "output_type": "stream",
     "text": [
      "/home/mina/anaconda3/lib/python3.12/site-packages/pyspark/sql/dataframe.py:147: UserWarning: DataFrame constructor is internal. Do not directly use it.\n",
      "  warnings.warn(\"DataFrame constructor is internal. Do not directly use it.\")\n",
      "                                                                                \r"
     ]
    },
    {
     "name": "stdout",
     "output_type": "stream",
     "text": [
      "+---+---+---+---+---+---+\n",
      "|a  |ab |b  |bc |c  |ca |\n",
      "+---+---+---+---+---+---+\n",
      "+---+---+---+---+---+---+\n",
      "\n"
     ]
    }
   ],
   "source": [
    "subgraph.find(\"(a)-[ab]->(b); (b)-[bc]->(c); (c)-[ca]->(a)\").show(10, False)"
   ]
  },
  {
   "cell_type": "markdown",
   "metadata": {},
   "source": [
    "12- all paths that pass through three vertices and start from \"Townsend at 7th\""
   ]
  },
  {
   "cell_type": "code",
   "execution_count": 37,
   "metadata": {},
   "outputs": [
    {
     "name": "stderr",
     "output_type": "stream",
     "text": [
      "/home/mina/anaconda3/lib/python3.12/site-packages/pyspark/sql/dataframe.py:147: UserWarning: DataFrame constructor is internal. Do not directly use it.\n",
      "  warnings.warn(\"DataFrame constructor is internal. Do not directly use it.\")\n",
      "[Stage 81:================================================>     (178 + 5) / 200]\r"
     ]
    },
    {
     "name": "stdout",
     "output_type": "stream",
     "text": [
      "+---------------------------------------------------------------------------+------------------------------------------------------------------------------------------------+---------------------------------------------------------------------------------------------------+\n",
      "|a                                                                          |b                                                                                               |c                                                                                                  |\n",
      "+---------------------------------------------------------------------------+------------------------------------------------------------------------------------------------+---------------------------------------------------------------------------------------------------+\n",
      "|{65, Townsend at 7th, 37.771058, -122.402717, 15, San Francisco, 8/22/2013}|{50, Harry Bridges Plaza (Ferry Building), 37.795392, -122.394203, 23, San Francisco, 8/20/2013}|{61, 2nd at Townsend, 37.780526, -122.390288, 27, San Francisco, 8/22/2013}                        |\n",
      "|{65, Townsend at 7th, 37.771058, -122.402717, 15, San Francisco, 8/22/2013}|{50, Harry Bridges Plaza (Ferry Building), 37.795392, -122.394203, 23, San Francisco, 8/20/2013}|{54, Embarcadero at Bryant, 37.787152, -122.388013, 15, San Francisco, 8/20/2013}                  |\n",
      "|{65, Townsend at 7th, 37.771058, -122.402717, 15, San Francisco, 8/22/2013}|{50, Harry Bridges Plaza (Ferry Building), 37.795392, -122.394203, 23, San Francisco, 8/20/2013}|{70, San Francisco Caltrain (Townsend at 4th), 37.776617, -122.39526, 19, San Francisco, 8/23/2013}|\n",
      "|{65, Townsend at 7th, 37.771058, -122.402717, 15, San Francisco, 8/22/2013}|{49, Spear at Folsom, 37.790302, -122.390637, 19, San Francisco, 8/20/2013}                     |{61, 2nd at Townsend, 37.780526, -122.390288, 27, San Francisco, 8/22/2013}                        |\n",
      "|{65, Townsend at 7th, 37.771058, -122.402717, 15, San Francisco, 8/22/2013}|{49, Spear at Folsom, 37.790302, -122.390637, 19, San Francisco, 8/20/2013}                     |{42, Davis at Jackson, 37.79728, -122.398436, 15, San Francisco, 8/19/2013}                        |\n",
      "|{65, Townsend at 7th, 37.771058, -122.402717, 15, San Francisco, 8/22/2013}|{49, Spear at Folsom, 37.790302, -122.390637, 19, San Francisco, 8/20/2013}                     |{65, Townsend at 7th, 37.771058, -122.402717, 15, San Francisco, 8/22/2013}                        |\n",
      "|{65, Townsend at 7th, 37.771058, -122.402717, 15, San Francisco, 8/22/2013}|{49, Spear at Folsom, 37.790302, -122.390637, 19, San Francisco, 8/20/2013}                     |{61, 2nd at Townsend, 37.780526, -122.390288, 27, San Francisco, 8/22/2013}                        |\n",
      "|{65, Townsend at 7th, 37.771058, -122.402717, 15, San Francisco, 8/22/2013}|{49, Spear at Folsom, 37.790302, -122.390637, 19, San Francisco, 8/20/2013}                     |{69, San Francisco Caltrain 2 (330 Townsend), 37.7766, -122.39547, 23, San Francisco, 8/23/2013}   |\n",
      "+---------------------------------------------------------------------------+------------------------------------------------------------------------------------------------+---------------------------------------------------------------------------------------------------+\n",
      "\n"
     ]
    },
    {
     "name": "stderr",
     "output_type": "stream",
     "text": [
      "                                                                                \r"
     ]
    }
   ],
   "source": [
    "graph.find(\"(a)-[]->(b); (b)-[]->(c)\").filter(\"a.id = 'Townsend at 7th'\").show(10, False)"
   ]
  },
  {
   "cell_type": "code",
   "execution_count": 40,
   "metadata": {},
   "outputs": [
    {
     "name": "stderr",
     "output_type": "stream",
     "text": [
      "/home/mina/anaconda3/lib/python3.12/site-packages/pyspark/sql/dataframe.py:147: UserWarning: DataFrame constructor is internal. Do not directly use it.\n",
      "  warnings.warn(\"DataFrame constructor is internal. Do not directly use it.\")\n",
      "                                                                                \r"
     ]
    },
    {
     "name": "stdout",
     "output_type": "stream",
     "text": [
      "+---------------------------------------------------------------------------+---------------------------------------------------------------------------+---------------------------------------------------------------------------+\n",
      "|a                                                                          |b                                                                          |c                                                                          |\n",
      "+---------------------------------------------------------------------------+---------------------------------------------------------------------------+---------------------------------------------------------------------------+\n",
      "|{65, Townsend at 7th, 37.771058, -122.402717, 15, San Francisco, 8/22/2013}|{49, Spear at Folsom, 37.790302, -122.390637, 19, San Francisco, 8/20/2013}|{65, Townsend at 7th, 37.771058, -122.402717, 15, San Francisco, 8/22/2013}|\n",
      "+---------------------------------------------------------------------------+---------------------------------------------------------------------------+---------------------------------------------------------------------------+\n",
      "\n"
     ]
    }
   ],
   "source": [
    "subgraph.find(\"(a)-[]->(b); (b)-[]->(c)\").filter(\"a.id = 'Townsend at 7th'\").show(10, False)"
   ]
  }
 ],
 "metadata": {
  "kernelspec": {
   "display_name": "base",
   "language": "python",
   "name": "python3"
  },
  "language_info": {
   "codemirror_mode": {
    "name": "ipython",
    "version": 3
   },
   "file_extension": ".py",
   "mimetype": "text/x-python",
   "name": "python",
   "nbconvert_exporter": "python",
   "pygments_lexer": "ipython3",
   "version": "3.12.4"
  }
 },
 "nbformat": 4,
 "nbformat_minor": 2
}
